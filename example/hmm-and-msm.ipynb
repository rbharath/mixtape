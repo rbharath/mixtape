{
 "metadata": {
  "name": ""
 },
 "nbformat": 3,
 "nbformat_minor": 0,
 "worksheets": [
  {
   "cells": [
    {
     "cell_type": "code",
     "collapsed": false,
     "input": [
      "%matplotlib inline\n",
      "from matplotlib.pyplot import *\n",
      "import os\n",
      "from glob import glob\n",
      "import mdtraj as md\n",
      "from mixtape.featurizer import SuperposeFeaturizer, featurize_all"
     ],
     "language": "python",
     "metadata": {},
     "outputs": [],
     "prompt_number": 1
    },
    {
     "cell_type": "code",
     "collapsed": false,
     "input": [
      "ALA2_DATA = glob(os.path.expanduser('~/local/msmbuilder/Tutorial/XTC/RUN*/frame*.xtc'))\n",
      "XTAL = os.path.expanduser('~/local/msmbuilder/Tutorial/native.pdb')"
     ],
     "language": "python",
     "metadata": {},
     "outputs": [],
     "prompt_number": 2
    },
    {
     "cell_type": "code",
     "collapsed": false,
     "input": [
      "native = md.load(XTAL)\n",
      "indices = [atom.index for atom in native.topology.atoms if atom.element.symbol in ['C', 'O', 'N']]\n",
      "featurizer = SuperposeFeaturizer(indices, native)\n",
      "sequences = [featurizer.featurize(md.load(fn, top=native)) for fn in ALA2_DATA]"
     ],
     "language": "python",
     "metadata": {},
     "outputs": [],
     "prompt_number": 3
    },
    {
     "cell_type": "code",
     "collapsed": false,
     "input": [
      "print len(sequences), [sequences[i].shape for i in range(5)]"
     ],
     "language": "python",
     "metadata": {},
     "outputs": [
      {
       "output_type": "stream",
       "stream": "stdout",
       "text": [
        "100 [(501, 10), (501, 10), (501, 10), (501, 10), (501, 10)]\n"
       ]
      }
     ],
     "prompt_number": 4
    },
    {
     "cell_type": "code",
     "collapsed": false,
     "input": [
      "from mixtape.ghmm import GaussianFusionHMM\n",
      "lag_times = range(1, 7)\n",
      "hmmts0 = {}\n",
      "hmmts1 = {}\n",
      "n_states = [4, 8, 16]\n",
      "\n",
      "for n in n_states:\n",
      "    hmmts0[n] = []\n",
      "    hmmts1[n] = []\n",
      "    for lag_time in lag_times:\n",
      "        strided_data = [s[i::lag_time] for s in sequences for i in range(lag_time)]\n",
      "        hmm = GaussianFusionHMM(n_states=n, n_features=sequences[0].shape[1]).fit(strided_data)\n",
      "        timescales = hmm.timescales_() * lag_time\n",
      "        hmmts0[n].append(timescales[0])\n",
      "        hmmts1[n].append(timescales[1])\n",
      "        print('n_states=%d\\tlag_time=%d\\ttimescales=%s' % (n, lag_time, timescales))"
     ],
     "language": "python",
     "metadata": {},
     "outputs": [
      {
       "output_type": "stream",
       "stream": "stderr",
       "text": [
        "/home/rmcgibbo/miniconda2/lib/python2.7/site-packages/mixtape-0.2-py2.7-linux-x86_64.egg/mixtape/ghmm.py:296: UserWarning: Maximum likelihood reversible transition matrixoptimization failed: ABNORMAL_TERMINATION_IN_LNSRCH\n",
        "  counts)\n"
       ]
      },
      {
       "output_type": "stream",
       "stream": "stdout",
       "text": [
        "n_states=4\tlag_time=1\ttimescales=[ 5.45219469  1.65278172  0.35447153]\n"
       ]
      },
      {
       "output_type": "stream",
       "stream": "stdout",
       "text": [
        "n_states=4\tlag_time=2\ttimescales=[ 6.74204874  1.78419197  0.47810775]\n"
       ]
      },
      {
       "output_type": "stream",
       "stream": "stdout",
       "text": [
        "n_states=4\tlag_time=3\ttimescales=[ 7.39277601  1.82948577  0.41515827]\n"
       ]
      },
      {
       "output_type": "stream",
       "stream": "stdout",
       "text": [
        "n_states=4\tlag_time=4\ttimescales=[ 7.85622883  1.8735528 ]\n"
       ]
      },
      {
       "output_type": "stream",
       "stream": "stdout",
       "text": [
        "n_states=4\tlag_time=5\ttimescales=[ 8.24629498  1.93216431  0.89402646]\n"
       ]
      },
      {
       "output_type": "stream",
       "stream": "stdout",
       "text": [
        "n_states=4\tlag_time=6\ttimescales=[ 8.55482101  1.96360981  1.2717067 ]\n"
       ]
      },
      {
       "output_type": "stream",
       "stream": "stdout",
       "text": [
        "n_states=8\tlag_time=1\ttimescales=[ 7.80180407  1.7975086   1.35501313  0.60601288  0.46445814  0.27083799\n",
        "  0.21257971]\n"
       ]
      },
      {
       "output_type": "stream",
       "stream": "stdout",
       "text": [
        "n_states=8\tlag_time=2\ttimescales=[ 7.80251503  1.91831827  1.49797094  0.67753565  0.46672547  0.3269577 ]\n"
       ]
      },
      {
       "output_type": "stream",
       "stream": "stdout",
       "text": [
        "n_states=8\tlag_time=3\ttimescales=[ 9.28858376  1.97979951  1.6410923   0.86848962  0.67763072]\n"
       ]
      },
      {
       "output_type": "stream",
       "stream": "stdout",
       "text": [
        "n_states=8\tlag_time=4\ttimescales=[ 9.55571747  1.99610758  1.63246894  1.04992414  0.8977809   0.86149991]\n"
       ]
      },
      {
       "output_type": "stream",
       "stream": "stdout",
       "text": [
        "n_states=8\tlag_time=5\ttimescales=[ 9.82936001  2.05553913  1.629879    1.1128881   0.96465981  0.81522161]\n"
       ]
      },
      {
       "output_type": "stream",
       "stream": "stdout",
       "text": [
        "n_states=8\tlag_time=6\ttimescales=[ 10.02517319   2.15861535   1.75393605   1.38182199   0.87772059]\n"
       ]
      },
      {
       "output_type": "stream",
       "stream": "stdout",
       "text": [
        "n_states=16\tlag_time=1\ttimescales=[ 12.57242107   8.43999195   1.844473     1.33395517   0.64872962\n",
        "   0.4903791    0.36313194   0.34073243   0.31906673   0.30555186\n",
        "   0.24863718   0.2358042    0.21674386   0.14661729]\n"
       ]
      },
      {
       "output_type": "stream",
       "stream": "stdout",
       "text": [
        "n_states=16\tlag_time=2\ttimescales=[ 13.38399506   8.86722565   1.91752172   1.47669888   0.75933266\n",
        "   0.59962934   0.54898411   0.50669229   0.49705133   0.47561505\n",
        "   0.42689064   0.33646023]\n"
       ]
      },
      {
       "output_type": "stream",
       "stream": "stdout",
       "text": [
        "n_states=16\tlag_time=3\ttimescales=[ 14.00686455   9.12751198   1.94396532   1.52308846   0.89822483\n",
        "   0.68528497   0.63626534   0.53562963   0.3897801 ]\n"
       ]
      },
      {
       "output_type": "stream",
       "stream": "stdout",
       "text": [
        "n_states=16\tlag_time=4\ttimescales=[ 14.21575069   9.26103687   1.96305704   1.4839741    1.06260705\n",
        "   1.00099742   0.90297276   0.85759932   0.75506109]\n"
       ]
      },
      {
       "output_type": "stream",
       "stream": "stdout",
       "text": [
        "n_states=16\tlag_time=5\ttimescales=[ 14.64204597   9.45524025   2.01051903   1.4387002    1.27845943\n",
        "   1.19603407   1.1112299    1.02909112   0.95432711   0.7936759 ]\n"
       ]
      },
      {
       "output_type": "stream",
       "stream": "stdout",
       "text": [
        "n_states=16\tlag_time=6\ttimescales=[ 14.92824745   9.5850668    2.00461054   1.66281533   1.43418097\n",
        "   1.35426855   1.21861458   1.15483141   1.00555253]\n"
       ]
      }
     ],
     "prompt_number": 5
    },
    {
     "cell_type": "code",
     "collapsed": false,
     "input": [
      "figure(figsize=(14,3))\n",
      "\n",
      "for i, n in enumerate(n_states):\n",
      "    subplot(1,len(n_states),1+i)\n",
      "    plot(lag_times, hmmts0[n])\n",
      "    plot(lag_times, hmmts1[n])\n",
      "    ylim(0, 20)\n",
      "    if i == 0:\n",
      "        ylabel('Relaxation Timescale')\n",
      "    xlabel('Lag Time')\n",
      "    title('%d states' % n)\n",
      "\n",
      "show()"
     ],
     "language": "python",
     "metadata": {},
     "outputs": [
      {
       "metadata": {},
       "output_type": "display_data",
       "png": "[encoded data removed]",
       "text": [
        "<matplotlib.figure.Figure at 0x4859510>"
       ]
      }
     ],
     "prompt_number": 6
    },
    {
     "cell_type": "code",
     "collapsed": false,
     "input": [
      "from mixtape.cluster import KCenters\n",
      "from mixtape.markovstatemodel import MarkovStateModel\n",
      "msmts0, msmts1 = {}, {}\n",
      "lag_times = range(1,7)\n",
      "n_states = [4, 8, 16, 32, 64]\n",
      "\n",
      "\n",
      "for n in n_states:\n",
      "    msmts0[n] = []\n",
      "    msmts1[n] = []\n",
      "    for lag_time in lag_times:\n",
      "        strided_data = [s[i::lag_time] for s in sequences for i in range(lag_time)]\n",
      "\n",
      "        assignments = KCenters(n_clusters=n).fit_predict(strided_data)\n",
      "        msm = MarkovStateModel(n_states=n).fit(assignments)\n",
      "        timescales = msm.timescales_() * lag_time\n",
      "        msmts0[n].append(timescales[0])\n",
      "        msmts1[n].append(timescales[1])\n",
      "        print('n_states=%d\\tlag_time=%d\\ttimescales=%s' % (n, lag_time, timescales))"
     ],
     "language": "python",
     "metadata": {},
     "outputs": [
      {
       "output_type": "stream",
       "stream": "stdout",
       "text": [
        "17:19:42 - Selected component 0 with population 1.000000\n"
       ]
      },
      {
       "output_type": "stream",
       "stream": "stdout",
       "text": [
        "17:19:42 - BFGS likelihood maximization terminated after 22 function calls.  Initial and final log likelihoods: -12542.795823, -12542.795687.\n"
       ]
      },
      {
       "output_type": "stream",
       "stream": "stdout",
       "text": [
        "n_states=4\tlag_time=1\ttimescales=[ 4.21696038  1.99528001         nan]\n",
        "17:19:42 - Selected component 0 with population 1.000000\n"
       ]
      },
      {
       "output_type": "stream",
       "stream": "stdout",
       "text": [
        "17:19:42 - BFGS likelihood maximization terminated after 21 function calls.  Initial and final log likelihoods: -14275.266466, -14275.265619.\n"
       ]
      },
      {
       "output_type": "stream",
       "stream": "stdout",
       "text": [
        "n_states=4\tlag_time=2\ttimescales=[ 6.61191347  3.39656673         nan]\n",
        "17:19:42 - Selected component 0 with population 1.000000\n"
       ]
      },
      {
       "output_type": "stream",
       "stream": "stdout",
       "text": [
        "17:19:43 - BFGS likelihood maximization terminated after 35 function calls.  Initial and final log likelihoods: -16105.780876, -16105.778970.\n"
       ]
      },
      {
       "output_type": "stream",
       "stream": "stdout",
       "text": [
        "n_states=4\tlag_time=3\ttimescales=[ 7.67736288  4.35011394         nan]\n",
        "17:19:43 - Selected component 0 with population 1.000000\n"
       ]
      },
      {
       "output_type": "stream",
       "stream": "stdout",
       "text": [
        "17:19:43 - BFGS likelihood maximization terminated after 28 function calls.  Initial and final log likelihoods: -48638.673591, -48638.653594.\n"
       ]
      },
      {
       "output_type": "stream",
       "stream": "stdout",
       "text": [
        "n_states=4\tlag_time=4\ttimescales=[ 3.98007839  1.72475473         nan]\n",
        "17:19:43 - Selected component 0 with population 1.000000\n"
       ]
      },
      {
       "output_type": "stream",
       "stream": "stdout",
       "text": [
        "17:19:43 - BFGS likelihood maximization terminated after 29 function calls.  Initial and final log likelihoods: -17286.408061, -17286.407002.\n"
       ]
      },
      {
       "output_type": "stream",
       "stream": "stdout",
       "text": [
        "n_states=4\tlag_time=5\ttimescales=[ 9.57597625  5.21737955         nan]\n",
        "17:19:43 - Selected component 0 with population 1.000000\n"
       ]
      },
      {
       "output_type": "stream",
       "stream": "stdout",
       "text": [
        "17:19:43 - BFGS likelihood maximization terminated after 36 function calls.  Initial and final log likelihoods: -19539.120052, -19539.119840.\n"
       ]
      },
      {
       "output_type": "stream",
       "stream": "stdout",
       "text": [
        "n_states=4\tlag_time=6\ttimescales=[ 9.4802002   7.04562638         nan]\n",
        "17:19:43 - Selected component 0 with population 1.000000\n"
       ]
      },
      {
       "output_type": "stream",
       "stream": "stdout",
       "text": [
        "17:19:43 - BFGS likelihood maximization terminated after 185 function calls.  Initial and final log likelihoods: -27711.918613, -27711.912799.\n"
       ]
      },
      {
       "output_type": "stream",
       "stream": "stdout",
       "text": [
        "n_states=8\tlag_time=1\ttimescales=[ 6.41026721  1.56110903  0.58910175  0.51062636  0.19992042         nan\n",
        "         nan]\n",
        "17:19:44 - Selected component 0 with population 1.000000\n"
       ]
      },
      {
       "output_type": "stream",
       "stream": "stdout",
       "text": [
        "17:19:44 - BFGS likelihood maximization terminated after 72 function calls.  Initial and final log likelihoods: -44631.193540, -44631.188033.\n"
       ]
      },
      {
       "output_type": "stream",
       "stream": "stdout",
       "text": [
        "n_states=8\tlag_time=2\ttimescales=[ 5.95234968  2.36780148  1.02464356  0.41696969  0.05073225         nan\n",
        "         nan]\n",
        "17:19:44 - Selected component 0 with population 1.000000\n"
       ]
      },
      {
       "output_type": "stream",
       "stream": "stdout",
       "text": [
        "17:19:44 - BFGS likelihood maximization terminated after 119 function calls.  Initial and final log likelihoods: -39838.482157, -39838.469618.\n"
       ]
      },
      {
       "output_type": "stream",
       "stream": "stdout",
       "text": [
        "n_states=8\tlag_time=3\ttimescales=[ 8.35348949  2.97335655  1.05499915  0.8396284   0.68286814         nan\n",
        "         nan]\n",
        "17:19:44 - Selected component 0 with population 1.000000\n"
       ]
      },
      {
       "output_type": "stream",
       "stream": "stdout",
       "text": [
        "17:19:44 - BFGS likelihood maximization terminated after 195 function calls.  Initial and final log likelihoods: -46273.441100, -46273.395732.\n"
       ]
      },
      {
       "output_type": "stream",
       "stream": "stdout",
       "text": [
        "n_states=8\tlag_time=4\ttimescales=[ 10.43175086   6.65078802   1.65008219   1.53568151          nan\n",
        "          nan          nan]\n",
        "17:19:45 - Selected component 0 with population 1.000000\n"
       ]
      },
      {
       "output_type": "stream",
       "stream": "stdout",
       "text": [
        "17:19:45 - BFGS likelihood maximization terminated after 128 function calls.  Initial and final log likelihoods: -46908.774088, -46908.747604.\n"
       ]
      },
      {
       "output_type": "stream",
       "stream": "stdout",
       "text": [
        "n_states=8\tlag_time=5\ttimescales=[ 9.32915426  4.97811385  1.56317448  1.3405654   0.94829532         nan\n",
        "         nan]\n",
        "17:19:45 - Selected component 0 with population 1.000000\n"
       ]
      },
      {
       "output_type": "stream",
       "stream": "stdout",
       "text": [
        "17:19:45 - BFGS likelihood maximization terminated after 130 function calls.  Initial and final log likelihoods: -37618.386800, -37618.361516.\n"
       ]
      },
      {
       "output_type": "stream",
       "stream": "stdout",
       "text": [
        "n_states=8\tlag_time=6\ttimescales=[ 9.57398418  5.36179109  1.53595204  1.12350804  0.70022299         nan\n",
        "         nan]\n",
        "17:19:45 - Selected component 0 with population 1.000000\n"
       ]
      },
      {
       "output_type": "stream",
       "stream": "stdout",
       "text": [
        "17:19:46 - BFGS likelihood maximization terminated after 279 function calls.  Initial and final log likelihoods: -67874.408014, -67874.389324.\n"
       ]
      },
      {
       "output_type": "stream",
       "stream": "stdout",
       "text": [
        "n_states=16\tlag_time=1\ttimescales=[ 10.32959825   5.63077675   2.81187091   1.2332809    1.13372997\n",
        "   0.73694642   0.51593254   0.5004514    0.38276821   0.30851149\n",
        "   0.23176006   0.14581369          nan          nan          nan]\n",
        "17:19:46 - Selected component 0 with population 1.000000\n"
       ]
      },
      {
       "output_type": "stream",
       "stream": "stdout",
       "text": [
        "17:19:46 - BFGS likelihood maximization terminated after 253 function calls.  Initial and final log likelihoods: -60614.338836, -60614.292390.\n"
       ]
      },
      {
       "output_type": "stream",
       "stream": "stdout",
       "text": [
        "n_states=16\tlag_time=2\ttimescales=[ 10.78164289   7.62204192   2.14067233   1.70059016   1.15900146\n",
        "   1.08936151   0.68981722   0.54429198   0.50985701   0.41369883\n",
        "          nan          nan          nan          nan          nan]\n",
        "17:19:47 - Selected component 0 with population 1.000000\n"
       ]
      },
      {
       "output_type": "stream",
       "stream": "stdout",
       "text": [
        "17:19:47 - BFGS likelihood maximization terminated after 206 function calls.  Initial and final log likelihoods: -65562.724009, -65562.700315.\n"
       ]
      },
      {
       "output_type": "stream",
       "stream": "stdout",
       "text": [
        "17:19:47 - Abnormal termination of BFGS likelihood maximization.  Error code 2\n"
       ]
      },
      {
       "output_type": "stream",
       "stream": "stdout",
       "text": [
        "n_states=16\tlag_time=3\ttimescales=[ 10.77183298   8.09894789   1.53987155   1.40035564   1.19879788\n",
        "   0.96449689   0.88807672   0.82110524   0.68540121   0.50567143\n",
        "          nan          nan          nan          nan          nan]\n",
        "17:19:47 - Selected component 0 with population 1.000000\n"
       ]
      },
      {
       "output_type": "stream",
       "stream": "stdout",
       "text": [
        "17:19:48 - BFGS likelihood maximization terminated after 336 function calls.  Initial and final log likelihoods: -72087.080407, -72087.002741.\n"
       ]
      },
      {
       "output_type": "stream",
       "stream": "stdout",
       "text": [
        "n_states=16\tlag_time=4\ttimescales=[ 13.66068309   8.26654042   3.33495687   1.82493536   1.41203245\n",
        "   1.32689909   1.24961953   1.02988296   0.97337731   0.57864703\n",
        "   0.54295347          nan          nan          nan          nan]\n",
        "17:19:48 - Selected component 0 with population 1.000000\n"
       ]
      },
      {
       "output_type": "stream",
       "stream": "stdout",
       "text": [
        "17:19:48 - BFGS likelihood maximization terminated after 235 function calls.  Initial and final log likelihoods: -85702.193945, -85702.146623.\n"
       ]
      },
      {
       "output_type": "stream",
       "stream": "stdout",
       "text": [
        "n_states=16\tlag_time=5\ttimescales=[ 13.65047821   8.72733532   3.14761118   1.77741098   1.75659482\n",
        "   1.49042172   1.33890066   1.24141004   1.04929198   0.92156313\n",
        "          nan          nan          nan          nan          nan]\n",
        "17:19:49 - Selected component 0 with population 1.000000\n"
       ]
      },
      {
       "output_type": "stream",
       "stream": "stdout",
       "text": [
        "17:19:49 - BFGS likelihood maximization terminated after 321 function calls.  Initial and final log likelihoods: -62559.221416, -62559.198621.\n"
       ]
      },
      {
       "output_type": "stream",
       "stream": "stdout",
       "text": [
        "17:19:49 - Abnormal termination of BFGS likelihood maximization.  Error code 2\n"
       ]
      },
      {
       "output_type": "stream",
       "stream": "stdout",
       "text": [
        "n_states=16\tlag_time=6\ttimescales=[ 15.00105781   9.10405793   3.7687276    2.84153025   1.79278796\n",
        "   1.55702106   1.26800367   0.91158721   0.84329462          nan\n",
        "          nan          nan          nan          nan          nan]\n",
        "17:19:49 - Selected component 0 with population 1.000000\n"
       ]
      },
      {
       "output_type": "stream",
       "stream": "stdout",
       "text": [
        "17:19:50 - BFGS likelihood maximization terminated after 333 function calls.  Initial and final log likelihoods: -87666.322492, -87666.279674.\n"
       ]
      },
      {
       "output_type": "stream",
       "stream": "stdout",
       "text": [
        "n_states=32\tlag_time=1\ttimescales=[ 11.48426852   6.77359015   2.6992499    1.47656214   1.10837094\n",
        "   0.90064477   0.63980183   0.56085755   0.48561862   0.41377648\n",
        "   0.37285672   0.36032149   0.32647431   0.31782837   0.30902779\n",
        "   0.29723829   0.26862788   0.25185403   0.23243558   0.18393122\n",
        "   0.17528009   0.13230978          nan          nan          nan\n",
        "          nan          nan          nan          nan          nan\n",
        "          nan]\n",
        "17:19:50 - Selected component 0 with population 1.000000\n"
       ]
      },
      {
       "output_type": "stream",
       "stream": "stdout",
       "text": [
        "17:19:51 - BFGS likelihood maximization terminated after 306 function calls.  Initial and final log likelihoods: -79182.374432, -79182.331059.\n"
       ]
      },
      {
       "output_type": "stream",
       "stream": "stdout",
       "text": [
        "n_states=32\tlag_time=2\ttimescales=[ 13.55901185   7.82415105   3.02097873   1.77776522   1.62505642\n",
        "   1.14131779   0.92880625   0.88067675   0.82592287   0.75004949\n",
        "   0.7205247    0.56706169   0.54311683   0.51288508   0.48821815\n",
        "   0.39770843   0.38597132   0.30591066          nan          nan\n",
        "          nan          nan          nan          nan          nan\n",
        "          nan          nan          nan          nan          nan\n",
        "          nan]\n",
        "17:19:51 - Selected component 0 with population 1.000000\n"
       ]
      },
      {
       "output_type": "stream",
       "stream": "stdout",
       "text": [
        "17:19:51 - BFGS likelihood maximization terminated after 263 function calls.  Initial and final log likelihoods: -84168.119561, -84168.042919.\n"
       ]
      },
      {
       "output_type": "stream",
       "stream": "stdout",
       "text": [
        "n_states=32\tlag_time=3\ttimescales=[ 13.84486169   8.77975815   3.56630351   1.76522407   1.64548976\n",
        "   1.49650101   1.41386197   1.35123454   1.18425168   0.93528254\n",
        "   0.87842175   0.74676223   0.71098279   0.68980689   0.65905625\n",
        "   0.63828566   0.58331531   0.51794244   0.34349551          nan\n",
        "          nan          nan          nan          nan          nan\n",
        "          nan          nan          nan          nan          nan\n",
        "          nan]\n",
        "17:19:51 - Selected component 0 with population 1.000000\n"
       ]
      },
      {
       "output_type": "stream",
       "stream": "stdout",
       "text": [
        "17:19:52 - BFGS likelihood maximization terminated after 273 function calls.  Initial and final log likelihoods: -107216.813181, -107216.744318.\n"
       ]
      },
      {
       "output_type": "stream",
       "stream": "stdout",
       "text": [
        "n_states=32\tlag_time=4\ttimescales=[ 13.69517652   8.84264647   2.45025106   1.87919849   1.63853766\n",
        "   1.51256911   1.28107936   1.15625674   1.13530043   1.0758272\n",
        "   1.04390527   1.00711624   0.94895813   0.91380266   0.81310992\n",
        "   0.79962296   0.74564242   0.69950736          nan          nan\n",
        "          nan          nan          nan          nan          nan\n",
        "          nan          nan          nan          nan          nan\n",
        "          nan]\n",
        "17:19:52 - Selected component 0 with population 1.000000\n"
       ]
      },
      {
       "output_type": "stream",
       "stream": "stdout",
       "text": [
        "17:19:53 - BFGS likelihood maximization terminated after 263 function calls.  Initial and final log likelihoods: -109399.315501, -109399.232288.\n"
       ]
      },
      {
       "output_type": "stream",
       "stream": "stdout",
       "text": [
        "n_states=32\tlag_time=5\ttimescales=[ 15.40632917   9.21898405   3.34245914   2.70333      2.19875866\n",
        "   2.0930908    1.94565749   1.67991053   1.59250922   1.4265021\n",
        "   1.41183337   1.28991412   1.17092134   1.11877819   1.10012662\n",
        "   1.05549133   0.87346765   0.85046183          nan          nan\n",
        "          nan          nan          nan          nan          nan\n",
        "          nan          nan          nan          nan          nan\n",
        "          nan]\n",
        "17:19:53 - Selected component 0 with population 1.000000\n"
       ]
      },
      {
       "output_type": "stream",
       "stream": "stdout",
       "text": [
        "17:19:53 - BFGS likelihood maximization terminated after 281 function calls.  Initial and final log likelihoods: -100505.937369, -100505.888017.\n"
       ]
      },
      {
       "output_type": "stream",
       "stream": "stdout",
       "text": [
        "n_states=32\tlag_time=6\ttimescales=[ 14.59303957   9.31841161   4.01598861   3.21151829   2.53914716\n",
        "   2.25890074   1.90229027   1.72460832   1.61562647   1.51543126\n",
        "   1.48070508   1.4183031    1.37829284   1.27510516   1.19357123\n",
        "   1.10409199   0.88606677          nan          nan          nan\n",
        "          nan          nan          nan          nan          nan\n",
        "          nan          nan          nan          nan          nan\n",
        "          nan]\n",
        "17:19:54 - Selected component 0 with population 1.000000\n"
       ]
      },
      {
       "output_type": "stream",
       "stream": "stdout",
       "text": [
        "17:19:54 - BFGS likelihood maximization terminated after 367 function calls.  Initial and final log likelihoods: -119119.916292, -119119.887613.\n"
       ]
      },
      {
       "output_type": "stream",
       "stream": "stdout",
       "text": [
        "17:19:54 - Abnormal termination of BFGS likelihood maximization.  Error code 2\n"
       ]
      },
      {
       "output_type": "stream",
       "stream": "stdout",
       "text": [
        "17:19:54 - ARPACK cannot calculate 64 eigenvectors from a 64 x 64 matrix.\n"
       ]
      },
      {
       "output_type": "stream",
       "stream": "stdout",
       "text": [
        "17:19:54 - Instead, calculating 62 eigenvectors.\n"
       ]
      },
      {
       "output_type": "stream",
       "stream": "stdout",
       "text": [
        "n_states=64\tlag_time=1\ttimescales=[ 14.70224281   8.30107898   3.39532532   1.70014485   1.34439957\n",
        "   1.297244     0.71884729   0.71494517   0.66055743   0.53513536\n",
        "   0.51296462   0.48319796   0.46537664   0.44816667   0.42156867\n",
        "   0.39772294   0.38541534   0.37493266   0.36545094   0.33827909\n",
        "   0.3329058    0.31413825   0.30698794   0.30439946   0.29054224\n",
        "   0.28323338   0.2766823    0.26957536   0.26792492   0.25926448\n",
        "   0.25164694   0.24448108   0.23570686   0.23098143   0.22238506\n",
        "   0.21556119   0.20333111   0.19121327   0.18145225   0.17612958\n",
        "   0.15552941          nan          nan          nan          nan\n",
        "          nan          nan          nan          nan          nan\n",
        "          nan          nan          nan          nan          nan\n",
        "          nan          nan          nan          nan          nan\n",
        "          nan]\n",
        "17:19:54 - Selected component 0 with population 1.000000\n"
       ]
      },
      {
       "output_type": "stream",
       "stream": "stdout",
       "text": [
        "17:19:55 - BFGS likelihood maximization terminated after 300 function calls.  Initial and final log likelihoods: -118601.093665, -118601.003527.\n"
       ]
      },
      {
       "output_type": "stream",
       "stream": "stdout",
       "text": [
        "17:19:55 - ARPACK cannot calculate 64 eigenvectors from a 64 x 64 matrix.\n"
       ]
      },
      {
       "output_type": "stream",
       "stream": "stdout",
       "text": [
        "17:19:55 - Instead, calculating 62 eigenvectors.\n"
       ]
      },
      {
       "output_type": "stream",
       "stream": "stdout",
       "text": [
        "n_states=64\tlag_time=2\ttimescales=[ 14.61126718   9.12837313   3.92752471   1.84601502   1.65472953\n",
        "   1.48134225   1.15738161   1.09878175   0.98282208   0.90540911\n",
        "   0.88779471   0.81489839   0.70575281   0.67972923   0.663273\n",
        "   0.63244604   0.61345117   0.5968769    0.58647476   0.5723093\n",
        "   0.56579382   0.55581173   0.54584063   0.53026488   0.50612228\n",
        "   0.50283128   0.48927441   0.46754186   0.45983886   0.44415271\n",
        "   0.4189046    0.41651197   0.39647503   0.37683652   0.3686468\n",
        "   0.29791596   0.23662324          nan          nan          nan\n",
        "          nan          nan          nan          nan          nan\n",
        "          nan          nan          nan          nan          nan\n",
        "          nan          nan          nan          nan          nan\n",
        "          nan          nan          nan          nan          nan\n",
        "          nan]\n",
        "17:19:55 - Selected component 0 with population 1.000000\n"
       ]
      },
      {
       "output_type": "stream",
       "stream": "stdout",
       "text": [
        "17:19:56 - BFGS likelihood maximization terminated after 347 function calls.  Initial and final log likelihoods: -115643.666075, -115643.578746.\n"
       ]
      },
      {
       "output_type": "stream",
       "stream": "stdout",
       "text": [
        "17:19:56 - Abnormal termination of BFGS likelihood maximization.  Error code 2\n"
       ]
      },
      {
       "output_type": "stream",
       "stream": "stdout",
       "text": [
        "17:19:56 - ARPACK cannot calculate 64 eigenvectors from a 64 x 64 matrix.\n"
       ]
      },
      {
       "output_type": "stream",
       "stream": "stdout",
       "text": [
        "17:19:56 - Instead, calculating 62 eigenvectors.\n"
       ]
      },
      {
       "output_type": "stream",
       "stream": "stdout",
       "text": [
        "n_states=64\tlag_time=3\ttimescales=[ 15.87948389   9.37230855   3.96326366   1.89654332   1.83746624\n",
        "   1.60497762   1.56091747   1.48680086   1.42558311   1.30008853\n",
        "   1.15626772   1.04163835   0.98898265   0.96842828   0.92867076\n",
        "   0.91157816   0.86511946   0.84361387   0.82907253   0.82450722\n",
        "   0.81751154   0.78607916   0.7715785    0.74858778   0.73095717\n",
        "   0.72805885   0.68845884   0.67616541   0.6420773    0.60420898\n",
        "   0.59755848   0.55001546   0.51775085   0.49585715   0.36407192\n",
        "   0.3098054           nan          nan          nan          nan\n",
        "          nan          nan          nan          nan          nan\n",
        "          nan          nan          nan          nan          nan\n",
        "          nan          nan          nan          nan          nan\n",
        "          nan          nan          nan          nan          nan\n",
        "          nan]\n",
        "17:19:56 - Selected component 0 with population 1.000000\n"
       ]
      },
      {
       "output_type": "stream",
       "stream": "stdout",
       "text": [
        "17:19:57 - BFGS likelihood maximization terminated after 238 function calls.  Initial and final log likelihoods: -136951.747878, -136951.641671.\n"
       ]
      },
      {
       "output_type": "stream",
       "stream": "stdout",
       "text": [
        "17:19:57 - ARPACK cannot calculate 64 eigenvectors from a 64 x 64 matrix.\n"
       ]
      },
      {
       "output_type": "stream",
       "stream": "stdout",
       "text": [
        "17:19:57 - Instead, calculating 62 eigenvectors.\n"
       ]
      },
      {
       "output_type": "stream",
       "stream": "stdout",
       "text": [
        "n_states=64\tlag_time=4\ttimescales=[ 13.79221672   9.47226721   4.00956488   2.83884091   2.46382729\n",
        "   2.19930604   2.04592934   1.93136868   1.67629274   1.53775446\n",
        "   1.4992069    1.31434098   1.31184627   1.27092702   1.21744287\n",
        "   1.20426628   1.16262262   1.1406186    1.10498914   1.0800477\n",
        "   1.06448222   1.03608499   1.00584619   0.98800943   0.97171412\n",
        "   0.936475     0.90033017   0.87977268   0.84368223   0.83128191\n",
        "   0.76263371   0.72448524   0.69932609   0.66959455   0.60743824\n",
        "   0.55085848          nan          nan          nan          nan\n",
        "          nan          nan          nan          nan          nan\n",
        "          nan          nan          nan          nan          nan\n",
        "          nan          nan          nan          nan          nan\n",
        "          nan          nan          nan          nan          nan\n",
        "          nan]\n",
        "17:19:57 - Selected component 0 with population 1.000000\n"
       ]
      },
      {
       "output_type": "stream",
       "stream": "stdout",
       "text": [
        "17:19:58 - BFGS likelihood maximization terminated after 248 function calls.  Initial and final log likelihoods: -133209.412602, -133209.257887.\n"
       ]
      },
      {
       "output_type": "stream",
       "stream": "stdout",
       "text": [
        "17:19:58 - ARPACK cannot calculate 64 eigenvectors from a 64 x 64 matrix.\n"
       ]
      },
      {
       "output_type": "stream",
       "stream": "stdout",
       "text": [
        "17:19:58 - Instead, calculating 62 eigenvectors.\n"
       ]
      },
      {
       "output_type": "stream",
       "stream": "stdout",
       "text": [
        "n_states=64\tlag_time=5\ttimescales=[ 16.19092332   9.63041454   3.87424653   3.16357752   2.65401248\n",
        "   2.47488785   2.20808151   2.02376829   1.97291164   1.96318741\n",
        "   1.73405264   1.67882645   1.64836045   1.57119339   1.54290809\n",
        "   1.49670835   1.48270852   1.45392469   1.38519808   1.36318901\n",
        "   1.34495776   1.34208072   1.27846997   1.26740477   1.22746398\n",
        "   1.19061779   1.1728165    1.10583037   1.09602166   1.05059376\n",
        "   1.03378983   1.01682362   0.90467215   0.85055694   0.77762352\n",
        "          nan          nan          nan          nan          nan\n",
        "          nan          nan          nan          nan          nan\n",
        "          nan          nan          nan          nan          nan\n",
        "          nan          nan          nan          nan          nan\n",
        "          nan          nan          nan          nan          nan\n",
        "          nan]\n",
        "17:19:58 - Selected component 0 with population 1.000000\n"
       ]
      },
      {
       "output_type": "stream",
       "stream": "stdout",
       "text": [
        "17:19:59 - BFGS likelihood maximization terminated after 315 function calls.  Initial and final log likelihoods: -141433.681137, -141433.531006.\n"
       ]
      },
      {
       "output_type": "stream",
       "stream": "stdout",
       "text": [
        "17:19:59 - ARPACK cannot calculate 64 eigenvectors from a 64 x 64 matrix.\n"
       ]
      },
      {
       "output_type": "stream",
       "stream": "stdout",
       "text": [
        "17:19:59 - Instead, calculating 62 eigenvectors.\n"
       ]
      },
      {
       "output_type": "stream",
       "stream": "stdout",
       "text": [
        "n_states=64\tlag_time=6\ttimescales=[ 16.74850552   9.6941924    4.56032065   3.73216337   3.24341312\n",
        "   3.06994911   2.70892552   2.3603336    2.11430086   2.06956131\n",
        "   1.88004784   1.81410712   1.79250179   1.75626191   1.68049073\n",
        "   1.65590364   1.64593517   1.6217299    1.57664783   1.53185838\n",
        "   1.52043663   1.46556254   1.45021951   1.42063255   1.35845608\n",
        "   1.33864389   1.30739172   1.23006012   1.16762999   1.12821559\n",
        "   1.07800768   1.02842964   0.91054008   0.78619214          nan\n",
        "          nan          nan          nan          nan          nan\n",
        "          nan          nan          nan          nan          nan\n",
        "          nan          nan          nan          nan          nan\n",
        "          nan          nan          nan          nan          nan\n",
        "          nan          nan          nan          nan          nan\n",
        "          nan]\n"
       ]
      }
     ],
     "prompt_number": 9
    },
    {
     "cell_type": "code",
     "collapsed": false,
     "input": [
      "figure(figsize=(14,3))\n",
      "\n",
      "for i, n in enumerate(n_states):\n",
      "    subplot(1,len(n_states),1+i)\n",
      "    plot(lag_times, msmts0[n])\n",
      "    plot(lag_times, msmts1[n])\n",
      "    ylim(0, 20)\n",
      "    if i == 0:\n",
      "        ylabel('Relaxation Timescale')\n",
      "    xlabel('Lag Time')\n",
      "    title('%d states' % n)\n",
      "\n",
      "show()"
     ],
     "language": "python",
     "metadata": {},
     "outputs": [
      {
       "metadata": {},
       "output_type": "display_data",
       "png": "[encoded data removed]",
       "text": [
        "<matplotlib.figure.Figure at 0x536da90>"
       ]
      }
     ],
     "prompt_number": 10
    }
   ],
   "metadata": {}
  }
 ]
}